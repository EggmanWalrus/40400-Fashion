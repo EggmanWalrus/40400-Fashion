{
 "cells": [
  {
   "cell_type": "markdown",
   "metadata": {},
   "source": [
    "# Fashion (MACS 40400: Computation and the Identification of Cultural Patterns)\n",
    "## Part II: Working with APIs\n",
    "\n",
    "Today, we're going to attempt to discover if there are any conventional interpretants for Zegna's Uomo cologne. In class on Tuesday, we saw that the product was intended to produce interpretants related to the concepts of masculinity, mastery and sophistication. Today, we are evaluating whether these are the sorts of interpretants that are actually produced in the circles of interpreters outside of individual advertisement that we watched by analyzing the words used in YouTube videos and the things that appear in images related to the Zegna brand more generally on Flickr."
   ]
  },
  {
   "cell_type": "markdown",
   "metadata": {},
   "source": [
    "## Ermenegildo Zegna Image Object Detection\n",
    "### Flickr and Google Cloud API Demonstration\n",
    "\n",
    "One way we might begin to understand some of the interpretants produced from the Uomo sign vehicle is to identify the objects that are in images and videos related to the Zegna brand as a whole. You might remember that the advertisement we watched on Tuesday begins with the phrase \"Ermenegildo Zegna Presents...\" and this Zegna name seems to be a key part in the labeling of this product. What meaning does this brand name bestow upon the product? We might begin to understand the interpretant(s) of \"Ermenegildo Zegna\" by identifying the entities that commonly occur in photos related to the name.\n",
    "\n",
    "We will use the Flickr API and a pre-trained computer vision algorithm with Google Cloud Vision's API that detects objects in images related to the term \"Ermenegildo Zegna\" to try to identify general patterns in the way in which photographers on Flickr compose their photos related to the Zegna brand (professional shots of models, as well as from the general public). Note that in this scenario, we are not only using an API to get pre-existing data (Flickr), but also to process data for us (Google Cloud Vision).\n",
    "\n",
    "It takes a bit too long to run this code as an in-class exercise (and requires getting an API key for the Flickr API, or some other image sharing website, along with a Google Cloud API key), but I'd encourage you to play around with and expand upon this approach on your own and/or work with image/video data in this way in your final projects.\n",
    "\n",
    "If you want to use [Google Cloud Vision API](https://cloud.google.com/vision/), you will need to sign up for a Google Cloud account, get an API key, as well run the following command on your command line to run the code below:\n",
    "`pip install google-cloud`. For more information on the approach below, see Google's official [documentation](https://cloud.google.com/vision/docs/labels#vision-label-detection-python)."
   ]
  },
  {
   "cell_type": "code",
   "execution_count": 50,
   "metadata": {},
   "outputs": [],
   "source": [
    "import pandas as pd\n",
    "import requests\n",
    "import flickrapi\n",
    "from google.cloud import vision\n",
    "import io"
   ]
  },
  {
   "cell_type": "markdown",
   "metadata": {},
   "source": [
    "First, let us use the Flickr API to identify images related to the keywords \"Ermengildo Zegna.\" Here, for demonstration purposes, we will collect 500 total images, but we could collect more. We will collect a list of the image URLs."
   ]
  },
  {
   "cell_type": "code",
   "execution_count": 4,
   "metadata": {},
   "outputs": [],
   "source": [
    "flickr = flickrapi.FlickrAPI('##############################', '#######################', cache=True)\n",
    "\n",
    "keyword = 'Ermenegildo Zegna'\n",
    "urls=[]\n",
    "for i, photo in enumerate(flickr.walk(text=keyword, sort='relevance', per_page=500, tags=keyword, extras='url_c')):\n",
    "    url = photo.get('url_c')\n",
    "    urls.append(url)\n",
    "    \n",
    "    # Get 500 urls:\n",
    "    if i > 500:\n",
    "        break"
   ]
  },
  {
   "cell_type": "markdown",
   "metadata": {},
   "source": [
    "Then, we can get each image via the Requests library and use Google Cloud Vision's API to label each image with text of what is in it."
   ]
  },
  {
   "cell_type": "code",
   "execution_count": 19,
   "metadata": {},
   "outputs": [],
   "source": [
    "def detect_labels(img_file):\n",
    "    \"\"\"Detects labels for an image file input.\"\"\"\n",
    "    client = vision.ImageAnnotatorClient()\n",
    "\n",
    "    image = vision.types.Image(content=img_file)\n",
    "\n",
    "    response = client.label_detection(image=image)\n",
    "    labels = response.label_annotations\n",
    "\n",
    "    return [label.description for label in labels]"
   ]
  },
  {
   "cell_type": "code",
   "execution_count": 20,
   "metadata": {},
   "outputs": [],
   "source": [
    "labels_flickr = []\n",
    "\n",
    "for url in urls:\n",
    "    try:\n",
    "        response = requests.get(str(url))\n",
    "        img = response.content\n",
    "        detected_labels = detect_labels(img)\n",
    "        labels_flickr.extend(detected_labels)\n",
    "    \n",
    "    except:\n",
    "        pass"
   ]
  },
  {
   "cell_type": "markdown",
   "metadata": {},
   "source": [
    "Finally, we can see some of the labels most associated with the Ermengildo Zegna images. It appears words like \"gentleman,\" \"urban/city/building,\" \"car/vehicle,\" \"male,\" etc. all appear fairly prominently, reinforcing the \"classic,\" masculine image of the brand we saw in the advertisement and it seems that the photos are generally associated with something of an \"urban gentleman\" -- a general interpretant of these Ermengildo Zegna images."
   ]
  },
  {
   "cell_type": "code",
   "execution_count": 24,
   "metadata": {},
   "outputs": [
    {
     "data": {
      "text/html": [
       "<div>\n",
       "<style scoped>\n",
       "    .dataframe tbody tr th:only-of-type {\n",
       "        vertical-align: middle;\n",
       "    }\n",
       "\n",
       "    .dataframe tbody tr th {\n",
       "        vertical-align: top;\n",
       "    }\n",
       "\n",
       "    .dataframe thead th {\n",
       "        text-align: right;\n",
       "    }\n",
       "</style>\n",
       "<table border=\"1\" class=\"dataframe\">\n",
       "  <thead>\n",
       "    <tr style=\"text-align: right;\">\n",
       "      <th></th>\n",
       "      <th>frame</th>\n",
       "    </tr>\n",
       "    <tr>\n",
       "      <th>labels</th>\n",
       "      <th></th>\n",
       "    </tr>\n",
       "  </thead>\n",
       "  <tbody>\n",
       "    <tr>\n",
       "      <th>Architecture</th>\n",
       "      <td>75</td>\n",
       "    </tr>\n",
       "    <tr>\n",
       "      <th>Building</th>\n",
       "      <td>72</td>\n",
       "    </tr>\n",
       "    <tr>\n",
       "      <th>Outerwear</th>\n",
       "      <td>44</td>\n",
       "    </tr>\n",
       "    <tr>\n",
       "      <th>Suit</th>\n",
       "      <td>36</td>\n",
       "    </tr>\n",
       "    <tr>\n",
       "      <th>Formal wear</th>\n",
       "      <td>34</td>\n",
       "    </tr>\n",
       "    <tr>\n",
       "      <th>City</th>\n",
       "      <td>34</td>\n",
       "    </tr>\n",
       "    <tr>\n",
       "      <th>Gentleman</th>\n",
       "      <td>33</td>\n",
       "    </tr>\n",
       "    <tr>\n",
       "      <th>Facade</th>\n",
       "      <td>33</td>\n",
       "    </tr>\n",
       "    <tr>\n",
       "      <th>Photography</th>\n",
       "      <td>32</td>\n",
       "    </tr>\n",
       "    <tr>\n",
       "      <th>Clothing</th>\n",
       "      <td>29</td>\n",
       "    </tr>\n",
       "    <tr>\n",
       "      <th>Jacket</th>\n",
       "      <td>29</td>\n",
       "    </tr>\n",
       "    <tr>\n",
       "      <th>Metropolitan area</th>\n",
       "      <td>27</td>\n",
       "    </tr>\n",
       "    <tr>\n",
       "      <th>Urban area</th>\n",
       "      <td>24</td>\n",
       "    </tr>\n",
       "    <tr>\n",
       "      <th>Vehicle</th>\n",
       "      <td>24</td>\n",
       "    </tr>\n",
       "    <tr>\n",
       "      <th>Car</th>\n",
       "      <td>21</td>\n",
       "    </tr>\n",
       "    <tr>\n",
       "      <th>Room</th>\n",
       "      <td>21</td>\n",
       "    </tr>\n",
       "    <tr>\n",
       "      <th>Commercial building</th>\n",
       "      <td>20</td>\n",
       "    </tr>\n",
       "    <tr>\n",
       "      <th>Interior design</th>\n",
       "      <td>20</td>\n",
       "    </tr>\n",
       "    <tr>\n",
       "      <th>Font</th>\n",
       "      <td>19</td>\n",
       "    </tr>\n",
       "    <tr>\n",
       "      <th>Tuxedo</th>\n",
       "      <td>19</td>\n",
       "    </tr>\n",
       "    <tr>\n",
       "      <th>Art</th>\n",
       "      <td>19</td>\n",
       "    </tr>\n",
       "    <tr>\n",
       "      <th>Display window</th>\n",
       "      <td>19</td>\n",
       "    </tr>\n",
       "    <tr>\n",
       "      <th>Night</th>\n",
       "      <td>19</td>\n",
       "    </tr>\n",
       "    <tr>\n",
       "      <th>Fashion</th>\n",
       "      <td>18</td>\n",
       "    </tr>\n",
       "    <tr>\n",
       "      <th>Land vehicle</th>\n",
       "      <td>18</td>\n",
       "    </tr>\n",
       "    <tr>\n",
       "      <th>Male</th>\n",
       "      <td>17</td>\n",
       "    </tr>\n",
       "    <tr>\n",
       "      <th>Metropolis</th>\n",
       "      <td>15</td>\n",
       "    </tr>\n",
       "    <tr>\n",
       "      <th>Leather</th>\n",
       "      <td>15</td>\n",
       "    </tr>\n",
       "    <tr>\n",
       "      <th>Sky</th>\n",
       "      <td>15</td>\n",
       "    </tr>\n",
       "    <tr>\n",
       "      <th>Eyewear</th>\n",
       "      <td>15</td>\n",
       "    </tr>\n",
       "    <tr>\n",
       "      <th>Black-and-white</th>\n",
       "      <td>15</td>\n",
       "    </tr>\n",
       "    <tr>\n",
       "      <th>Blazer</th>\n",
       "      <td>14</td>\n",
       "    </tr>\n",
       "    <tr>\n",
       "      <th>White-collar worker</th>\n",
       "      <td>14</td>\n",
       "    </tr>\n",
       "    <tr>\n",
       "      <th>Classic car</th>\n",
       "      <td>13</td>\n",
       "    </tr>\n",
       "    <tr>\n",
       "      <th>Mixed-use</th>\n",
       "      <td>13</td>\n",
       "    </tr>\n",
       "    <tr>\n",
       "      <th>Sleeve</th>\n",
       "      <td>13</td>\n",
       "    </tr>\n",
       "    <tr>\n",
       "      <th>White</th>\n",
       "      <td>13</td>\n",
       "    </tr>\n",
       "    <tr>\n",
       "      <th>Text</th>\n",
       "      <td>13</td>\n",
       "    </tr>\n",
       "    <tr>\n",
       "      <th>Glass</th>\n",
       "      <td>12</td>\n",
       "    </tr>\n",
       "    <tr>\n",
       "      <th>Top</th>\n",
       "      <td>12</td>\n",
       "    </tr>\n",
       "    <tr>\n",
       "      <th>Classic</th>\n",
       "      <td>12</td>\n",
       "    </tr>\n",
       "    <tr>\n",
       "      <th>Cool</th>\n",
       "      <td>12</td>\n",
       "    </tr>\n",
       "    <tr>\n",
       "      <th>Design</th>\n",
       "      <td>12</td>\n",
       "    </tr>\n",
       "    <tr>\n",
       "      <th>Textile</th>\n",
       "      <td>12</td>\n",
       "    </tr>\n",
       "    <tr>\n",
       "      <th>Door</th>\n",
       "      <td>12</td>\n",
       "    </tr>\n",
       "    <tr>\n",
       "      <th>Street</th>\n",
       "      <td>12</td>\n",
       "    </tr>\n",
       "    <tr>\n",
       "      <th>Glasses</th>\n",
       "      <td>12</td>\n",
       "    </tr>\n",
       "    <tr>\n",
       "      <th>Window</th>\n",
       "      <td>12</td>\n",
       "    </tr>\n",
       "    <tr>\n",
       "      <th>Sedan</th>\n",
       "      <td>12</td>\n",
       "    </tr>\n",
       "    <tr>\n",
       "      <th>Real estate</th>\n",
       "      <td>12</td>\n",
       "    </tr>\n",
       "  </tbody>\n",
       "</table>\n",
       "</div>"
      ],
      "text/plain": [
       "                     frame\n",
       "labels                    \n",
       "Architecture            75\n",
       "Building                72\n",
       "Outerwear               44\n",
       "Suit                    36\n",
       "Formal wear             34\n",
       "City                    34\n",
       "Gentleman               33\n",
       "Facade                  33\n",
       "Photography             32\n",
       "Clothing                29\n",
       "Jacket                  29\n",
       "Metropolitan area       27\n",
       "Urban area              24\n",
       "Vehicle                 24\n",
       "Car                     21\n",
       "Room                    21\n",
       "Commercial building     20\n",
       "Interior design         20\n",
       "Font                    19\n",
       "Tuxedo                  19\n",
       "Art                     19\n",
       "Display window          19\n",
       "Night                   19\n",
       "Fashion                 18\n",
       "Land vehicle            18\n",
       "Male                    17\n",
       "Metropolis              15\n",
       "Leather                 15\n",
       "Sky                     15\n",
       "Eyewear                 15\n",
       "Black-and-white         15\n",
       "Blazer                  14\n",
       "White-collar worker     14\n",
       "Classic car             13\n",
       "Mixed-use               13\n",
       "Sleeve                  13\n",
       "White                   13\n",
       "Text                    13\n",
       "Glass                   12\n",
       "Top                     12\n",
       "Classic                 12\n",
       "Cool                    12\n",
       "Design                  12\n",
       "Textile                 12\n",
       "Door                    12\n",
       "Street                  12\n",
       "Glasses                 12\n",
       "Window                  12\n",
       "Sedan                   12\n",
       "Real estate             12"
      ]
     },
     "execution_count": 24,
     "metadata": {},
     "output_type": "execute_result"
    }
   ],
   "source": [
    "pd.DataFrame({'labels':labels_flickr, \n",
    "              'frame':range(len(labels_flickr))}\n",
    "            ).groupby('labels').count().sort_values('frame', ascending=False)[:50]"
   ]
  },
  {
   "cell_type": "markdown",
   "metadata": {},
   "source": [
    "Note that using other image sources (such as Twitter, Instagram, or a company website) might enhance this brief study with additional data about how photographic interpretants for the brand vary within different communities of interpreters.\n",
    "\n",
    "If we wanted to detect custom entities that are outside the scope of Google's pre-trained algorithms, we could also train our own machine learning algorithms. For instance, in my own work, I've trained classifiers to identify archaeological sites from vast amounts of satellite image data (using Python's OpenCV and Scikit learn packages). This involves feeding a classification algorithm a lot of images with labels of what is in them, so that it can begin to learn for itself how they are used. This is about as deep as we will get into these approaches in this class, but I'd encourage you to explore these approaches in your final projects if you'd like to work with images."
   ]
  },
  {
   "cell_type": "markdown",
   "metadata": {},
   "source": [
    "*******\n",
    "\n",
    "## Importing YouTube Video Captions and Metadata\n",
    "\n",
    "To identify the interpretants for the Uomo cologne in particular, we will gather data from YouTube videos that review the product. What language do the YouTube influencers use to describe the cologne? How do they generally judge the product? Is it consistent with the argument presented by the Uomo advertisers in the advertisement we watched on Tuesday?\n",
    "\n",
    "To gather YouTube metadata and captions, we can use the [official YouTube API](https://developers.google.com/youtube/v3/docs/search/list) (for which you can acquire keys through the same portal as Google Cloud Vision). However, I find it significantly easier in Python to use the third-party scraper [youtube_dl](https://github.com/ytdl-org/youtube-dl/blob/master/README.md#readme). The advantage of using `youtube_dl` is that it provides a framework for downloading video data on other streaming sites as well (for instance, Vimeo and TikTok) and returns JSON formatted data in the same way as the official YouTube API. One disadvantage, however, is that it does not return comment data from YouTube. You will need to use the official YouTube API if you want to collect comments for videos."
   ]
  },
  {
   "cell_type": "code",
   "execution_count": 1,
   "metadata": {},
   "outputs": [
    {
     "name": "stdout",
     "output_type": "stream",
     "text": [
      "Requirement already satisfied: youtube_dl in c:\\users\\jon clindaniel\\anaconda3\\lib\\site-packages (2019.10.22)\n"
     ]
    }
   ],
   "source": [
    "#Install youtube-dl for downloading youtube videos/metadata (as well as information from other video streaming sites)\n",
    "!pip install youtube_dl"
   ]
  },
  {
   "cell_type": "code",
   "execution_count": 2,
   "metadata": {},
   "outputs": [],
   "source": [
    "import youtube_dl\n",
    "import re"
   ]
  },
  {
   "cell_type": "markdown",
   "metadata": {},
   "source": [
    "Once we have installed youtube_dl, we can return all metadata related to 'Zegna Uomo' videos as well as any available captions (automatically generated, or otherwise)."
   ]
  },
  {
   "cell_type": "code",
   "execution_count": 3,
   "metadata": {},
   "outputs": [
    {
     "name": "stdout",
     "output_type": "stream",
     "text": [
      "[youtube:search] query \"Zegna Uomo\": Downloading page 1\n",
      "[youtube:search] query \"Zegna Uomo\": Downloading page 2\n",
      "[youtube:search] query \"Zegna Uomo\": Downloading page 3\n",
      "[youtube:search] query \"Zegna Uomo\": Downloading page 4\n",
      "[youtube:search] query \"Zegna Uomo\": Downloading page 5\n",
      "[download] Downloading playlist: Zegna Uomo\n",
      "[youtube:search] playlist Zegna Uomo: Collected 100 video ids (downloading 100 of them)\n",
      "[download] Downloading video 1 of 100\n",
      "[youtube] Otqi2zZrRJM: Downloading webpage\n",
      "[youtube] Otqi2zZrRJM: Downloading video info webpage\n",
      "[youtube] Otqi2zZrRJM: Looking for automatic captions\n",
      "[download] Downloading video 2 of 100\n",
      "[youtube] 4cWpCynRQzw: Downloading webpage\n",
      "[youtube] 4cWpCynRQzw: Downloading video info webpage\n",
      "[youtube] 4cWpCynRQzw: Looking for automatic captions\n",
      "[download] Downloading video 3 of 100\n",
      "[youtube] axzIdt6rFYM: Downloading webpage\n",
      "[youtube] axzIdt6rFYM: Downloading video info webpage\n",
      "[youtube] axzIdt6rFYM: Looking for automatic captions\n",
      "[youtube] axzIdt6rFYM: Downloading MPD manifest\n",
      "[download] Downloading video 4 of 100\n",
      "[youtube] MibC6tRSBpk: Downloading webpage\n",
      "[youtube] MibC6tRSBpk: Downloading video info webpage\n",
      "[youtube] MibC6tRSBpk: Looking for automatic captions\n",
      "[download] Downloading video 5 of 100\n",
      "[youtube] ow3QAF_aB_M: Downloading webpage\n",
      "[youtube] ow3QAF_aB_M: Downloading video info webpage\n",
      "[youtube] ow3QAF_aB_M: Looking for automatic captions\n",
      "[youtube] ow3QAF_aB_M: Downloading MPD manifest\n",
      "[download] Downloading video 6 of 100\n",
      "[youtube] jlRLCn7cHeg: Downloading webpage\n",
      "[youtube] jlRLCn7cHeg: Downloading video info webpage\n",
      "[youtube] jlRLCn7cHeg: Looking for automatic captions\n",
      "[download] Downloading video 7 of 100\n",
      "[youtube] fOb2ZjaeNwQ: Downloading webpage\n",
      "[youtube] fOb2ZjaeNwQ: Downloading video info webpage\n",
      "[youtube] fOb2ZjaeNwQ: Looking for automatic captions\n",
      "[download] Downloading video 8 of 100\n",
      "[youtube] _9kTLCKna6U: Downloading webpage\n",
      "[youtube] _9kTLCKna6U: Downloading video info webpage\n",
      "[youtube] _9kTLCKna6U: Looking for automatic captions\n",
      "[download] Downloading video 9 of 100\n",
      "[youtube] wAeVZHHfqU8: Downloading webpage\n",
      "[youtube] wAeVZHHfqU8: Downloading video info webpage\n",
      "[youtube] wAeVZHHfqU8: Looking for automatic captions\n",
      "[download] Downloading video 10 of 100\n",
      "[youtube] dkoS8ZpiZ-U: Downloading webpage\n",
      "[youtube] dkoS8ZpiZ-U: Downloading video info webpage\n",
      "[youtube] dkoS8ZpiZ-U: Looking for automatic captions\n",
      "[youtube] dkoS8ZpiZ-U: Downloading MPD manifest\n",
      "[download] Downloading video 11 of 100\n",
      "[youtube] sWk94lBXuzk: Downloading webpage\n",
      "[youtube] sWk94lBXuzk: Downloading video info webpage\n",
      "[youtube] sWk94lBXuzk: Looking for automatic captions\n"
     ]
    },
    {
     "name": "stderr",
     "output_type": "stream",
     "text": [
      "WARNING: Couldn't find automatic captions for sWk94lBXuzk\n"
     ]
    },
    {
     "name": "stdout",
     "output_type": "stream",
     "text": [
      "[download] Downloading video 12 of 100\n",
      "[youtube] TFKz6QDY_9k: Downloading webpage\n",
      "[youtube] TFKz6QDY_9k: Downloading video info webpage\n",
      "[youtube] TFKz6QDY_9k: Looking for automatic captions\n",
      "[download] Downloading video 13 of 100\n",
      "[youtube] 6jeZgHWlsao: Downloading webpage\n",
      "[youtube] 6jeZgHWlsao: Downloading video info webpage\n",
      "[youtube] 6jeZgHWlsao: Looking for automatic captions\n",
      "[download] Downloading video 14 of 100\n",
      "[youtube] e1BxYRif2FM: Downloading webpage\n",
      "[youtube] e1BxYRif2FM: Downloading video info webpage\n",
      "[youtube] e1BxYRif2FM: Looking for automatic captions\n",
      "[download] Downloading video 15 of 100\n",
      "[youtube] 0uzaSR-9owA: Downloading webpage\n",
      "[youtube] 0uzaSR-9owA: Downloading video info webpage\n",
      "[youtube] 0uzaSR-9owA: Looking for automatic captions\n",
      "[youtube] 0uzaSR-9owA: Downloading MPD manifest\n",
      "[download] Downloading video 16 of 100\n",
      "[youtube] 51iCVeAYHro: Downloading webpage\n",
      "[youtube] 51iCVeAYHro: Downloading video info webpage\n",
      "[youtube] 51iCVeAYHro: Looking for automatic captions\n",
      "[download] Downloading video 17 of 100\n",
      "[youtube] 1mU6tQl1fHM: Downloading webpage\n",
      "[youtube] 1mU6tQl1fHM: Downloading video info webpage\n",
      "[youtube] 1mU6tQl1fHM: Looking for automatic captions\n",
      "[youtube] 1mU6tQl1fHM: Downloading MPD manifest\n",
      "[download] Downloading video 18 of 100\n",
      "[youtube] kQDK7WtkZSs: Downloading webpage\n",
      "[youtube] kQDK7WtkZSs: Downloading video info webpage\n",
      "[youtube] kQDK7WtkZSs: Looking for automatic captions\n",
      "[youtube] kQDK7WtkZSs: Downloading MPD manifest\n",
      "[download] Downloading video 19 of 100\n",
      "[youtube] eHbhTfOwZKI: Downloading webpage\n",
      "[youtube] eHbhTfOwZKI: Downloading video info webpage\n",
      "[youtube] eHbhTfOwZKI: Looking for automatic captions\n",
      "[download] Downloading video 20 of 100\n",
      "[youtube] QurSbRGy_r4: Downloading webpage\n",
      "[youtube] QurSbRGy_r4: Downloading video info webpage\n",
      "[youtube] QurSbRGy_r4: Looking for automatic captions\n"
     ]
    },
    {
     "name": "stderr",
     "output_type": "stream",
     "text": [
      "WARNING: Couldn't find automatic captions for QurSbRGy_r4\n"
     ]
    },
    {
     "name": "stdout",
     "output_type": "stream",
     "text": [
      "[download] Downloading video 21 of 100\n",
      "[youtube] myGkJ3fJjrQ: Downloading webpage\n",
      "[youtube] myGkJ3fJjrQ: Downloading video info webpage\n",
      "[youtube] myGkJ3fJjrQ: Looking for automatic captions\n",
      "[download] Downloading video 22 of 100\n",
      "[youtube] tgZis3DkQVo: Downloading webpage\n",
      "[youtube] tgZis3DkQVo: Downloading video info webpage\n",
      "[youtube] tgZis3DkQVo: Looking for automatic captions\n",
      "[download] Downloading video 23 of 100\n",
      "[youtube] ioSGxWHiaZU: Downloading webpage\n",
      "[youtube] ioSGxWHiaZU: Downloading video info webpage\n",
      "[youtube] ioSGxWHiaZU: Looking for automatic captions\n",
      "[download] Downloading video 24 of 100\n",
      "[youtube] QbkoRoZZ4gw: Downloading webpage\n",
      "[youtube] QbkoRoZZ4gw: Downloading video info webpage\n",
      "[youtube] QbkoRoZZ4gw: Looking for automatic captions\n"
     ]
    },
    {
     "name": "stderr",
     "output_type": "stream",
     "text": [
      "WARNING: Couldn't find automatic captions for QbkoRoZZ4gw\n"
     ]
    },
    {
     "name": "stdout",
     "output_type": "stream",
     "text": [
      "[download] Downloading video 25 of 100\n",
      "[youtube] YKx4BfZ2fJQ: Downloading webpage\n",
      "[youtube] YKx4BfZ2fJQ: Downloading video info webpage\n",
      "[youtube] YKx4BfZ2fJQ: Looking for automatic captions\n",
      "[download] Downloading video 26 of 100\n",
      "[youtube] d1_R6gFj_pw: Downloading webpage\n",
      "[youtube] d1_R6gFj_pw: Downloading video info webpage\n",
      "[youtube] d1_R6gFj_pw: Looking for automatic captions\n"
     ]
    },
    {
     "name": "stderr",
     "output_type": "stream",
     "text": [
      "WARNING: Couldn't find automatic captions for d1_R6gFj_pw\n"
     ]
    },
    {
     "name": "stdout",
     "output_type": "stream",
     "text": [
      "[download] Downloading video 27 of 100\n",
      "[youtube] 6jeZgHWlsao: Downloading webpage\n",
      "[youtube] 6jeZgHWlsao: Downloading video info webpage\n",
      "[youtube] 6jeZgHWlsao: Looking for automatic captions\n",
      "[download] Downloading video 28 of 100\n",
      "[youtube] UW-zHgizU3I: Downloading webpage\n",
      "[youtube] UW-zHgizU3I: Downloading video info webpage\n",
      "[youtube] UW-zHgizU3I: Looking for automatic captions\n"
     ]
    },
    {
     "name": "stderr",
     "output_type": "stream",
     "text": [
      "WARNING: Couldn't find automatic captions for UW-zHgizU3I\n"
     ]
    },
    {
     "name": "stdout",
     "output_type": "stream",
     "text": [
      "[download] Downloading video 29 of 100\n",
      "[youtube] hr6mpIasoOY: Downloading webpage\n",
      "[youtube] hr6mpIasoOY: Downloading video info webpage\n",
      "[youtube] hr6mpIasoOY: Looking for automatic captions\n",
      "[download] Downloading video 30 of 100\n",
      "[youtube] jacMq_BLeoE: Downloading webpage\n",
      "[youtube] jacMq_BLeoE: Downloading video info webpage\n",
      "[youtube] jacMq_BLeoE: Looking for automatic captions\n",
      "[youtube] jacMq_BLeoE: Downloading MPD manifest\n",
      "[download] Downloading video 31 of 100\n",
      "[youtube] Cfaz7OUDiZI: Downloading webpage\n",
      "[youtube] Cfaz7OUDiZI: Downloading video info webpage\n",
      "[youtube] Cfaz7OUDiZI: Looking for automatic captions\n"
     ]
    },
    {
     "name": "stderr",
     "output_type": "stream",
     "text": [
      "WARNING: Couldn't find automatic captions for Cfaz7OUDiZI\n"
     ]
    },
    {
     "name": "stdout",
     "output_type": "stream",
     "text": [
      "[youtube] Cfaz7OUDiZI: Downloading MPD manifest\n",
      "[download] Downloading video 32 of 100\n",
      "[youtube] zBaNNxIAOHM: Downloading webpage\n",
      "[youtube] zBaNNxIAOHM: Downloading video info webpage\n",
      "[youtube] zBaNNxIAOHM: Looking for automatic captions\n"
     ]
    },
    {
     "name": "stderr",
     "output_type": "stream",
     "text": [
      "WARNING: Couldn't find automatic captions for zBaNNxIAOHM\n"
     ]
    },
    {
     "name": "stdout",
     "output_type": "stream",
     "text": [
      "[download] Downloading video 33 of 100\n",
      "[youtube] KK4-El2cdPg: Downloading webpage\n",
      "[youtube] KK4-El2cdPg: Downloading video info webpage\n",
      "[youtube] KK4-El2cdPg: Looking for automatic captions\n",
      "[youtube] KK4-El2cdPg: Downloading MPD manifest\n",
      "[download] Downloading video 34 of 100\n",
      "[youtube] f_JX6vJDAUQ: Downloading webpage\n",
      "[youtube] f_JX6vJDAUQ: Downloading video info webpage\n",
      "[youtube] f_JX6vJDAUQ: Looking for automatic captions\n",
      "[download] Downloading video 35 of 100\n",
      "[youtube] JPfvHkFnmPY: Downloading webpage\n",
      "[youtube] JPfvHkFnmPY: Downloading video info webpage\n",
      "[youtube] JPfvHkFnmPY: Looking for automatic captions\n"
     ]
    },
    {
     "name": "stderr",
     "output_type": "stream",
     "text": [
      "WARNING: Couldn't find automatic captions for JPfvHkFnmPY\n"
     ]
    },
    {
     "name": "stdout",
     "output_type": "stream",
     "text": [
      "[download] Downloading video 36 of 100\n",
      "[youtube] GxXwzovGTPw: Downloading webpage\n",
      "[youtube] GxXwzovGTPw: Downloading video info webpage\n",
      "[youtube] GxXwzovGTPw: Looking for automatic captions\n",
      "[youtube] GxXwzovGTPw: Downloading MPD manifest\n",
      "[download] Downloading video 37 of 100\n",
      "[youtube] TFKz6QDY_9k: Downloading webpage\n",
      "[youtube] TFKz6QDY_9k: Downloading video info webpage\n",
      "[youtube] TFKz6QDY_9k: Looking for automatic captions\n",
      "[download] Downloading video 38 of 100\n",
      "[youtube] D8gdeC7BFRM: Downloading webpage\n",
      "[youtube] D8gdeC7BFRM: Downloading video info webpage\n",
      "[youtube] D8gdeC7BFRM: Looking for automatic captions\n",
      "[download] Downloading video 39 of 100\n",
      "[youtube] p9fE64CT0NE: Downloading webpage\n",
      "[youtube] p9fE64CT0NE: Downloading video info webpage\n",
      "[youtube] p9fE64CT0NE: Looking for automatic captions\n",
      "[youtube] p9fE64CT0NE: Downloading MPD manifest\n",
      "[download] Downloading video 40 of 100\n",
      "[youtube] xNHxfcnHZcQ: Downloading webpage\n",
      "[youtube] xNHxfcnHZcQ: Downloading video info webpage\n",
      "[youtube] xNHxfcnHZcQ: Looking for automatic captions\n"
     ]
    },
    {
     "name": "stderr",
     "output_type": "stream",
     "text": [
      "WARNING: Couldn't find automatic captions for xNHxfcnHZcQ\n"
     ]
    },
    {
     "name": "stdout",
     "output_type": "stream",
     "text": [
      "[youtube] xNHxfcnHZcQ: Downloading MPD manifest\n",
      "[download] Downloading video 41 of 100\n",
      "[youtube] 2oF1hP8XX8w: Downloading webpage\n",
      "[youtube] 2oF1hP8XX8w: Downloading video info webpage\n",
      "[youtube] 2oF1hP8XX8w: Looking for automatic captions\n"
     ]
    },
    {
     "name": "stderr",
     "output_type": "stream",
     "text": [
      "WARNING: Couldn't find automatic captions for 2oF1hP8XX8w\n"
     ]
    },
    {
     "name": "stdout",
     "output_type": "stream",
     "text": [
      "[download] Downloading video 42 of 100\n",
      "[youtube] NmsP5lzcbOI: Downloading webpage\n",
      "[youtube] NmsP5lzcbOI: Downloading video info webpage\n",
      "[youtube] NmsP5lzcbOI: Looking for automatic captions\n",
      "[download] Downloading video 43 of 100\n",
      "[youtube] YdMP9H4Tj5Y: Downloading webpage\n",
      "[youtube] YdMP9H4Tj5Y: Downloading video info webpage\n",
      "[youtube] YdMP9H4Tj5Y: Looking for automatic captions\n",
      "[download] Downloading video 44 of 100\n",
      "[youtube] QOvyr_EKV1g: Downloading webpage\n",
      "[youtube] QOvyr_EKV1g: Downloading video info webpage\n",
      "[youtube] QOvyr_EKV1g: Looking for automatic captions\n",
      "[download] Downloading video 45 of 100\n",
      "[youtube] xSLQGo833yU: Downloading webpage\n",
      "[youtube] xSLQGo833yU: Downloading video info webpage\n",
      "[youtube] xSLQGo833yU: Looking for automatic captions\n"
     ]
    },
    {
     "name": "stderr",
     "output_type": "stream",
     "text": [
      "WARNING: Couldn't find automatic captions for xSLQGo833yU\n"
     ]
    },
    {
     "name": "stdout",
     "output_type": "stream",
     "text": [
      "[download] Downloading video 46 of 100\n",
      "[youtube] xax2B82CMSo: Downloading webpage\n",
      "[youtube] xax2B82CMSo: Downloading video info webpage\n",
      "[youtube] xax2B82CMSo: Looking for automatic captions\n"
     ]
    },
    {
     "name": "stderr",
     "output_type": "stream",
     "text": [
      "WARNING: Couldn't find automatic captions for xax2B82CMSo\n"
     ]
    },
    {
     "name": "stdout",
     "output_type": "stream",
     "text": [
      "[download] Downloading video 47 of 100\n",
      "[youtube] 9pYLGO4PFXA: Downloading webpage\n",
      "[youtube] 9pYLGO4PFXA: Downloading video info webpage\n",
      "[youtube] 9pYLGO4PFXA: Looking for automatic captions\n",
      "[download] Downloading video 48 of 100\n",
      "[youtube] 5s-USM9zR0Y: Downloading webpage\n",
      "[youtube] 5s-USM9zR0Y: Downloading video info webpage\n",
      "[youtube] 5s-USM9zR0Y: Looking for automatic captions\n",
      "[download] Downloading video 49 of 100\n",
      "[youtube] 1_zMvtu8TM4: Downloading webpage\n",
      "[youtube] 1_zMvtu8TM4: Downloading video info webpage\n",
      "[youtube] 1_zMvtu8TM4: Looking for automatic captions\n",
      "[download] Downloading video 50 of 100\n",
      "[youtube] JLULjR_tmdo: Downloading webpage\n",
      "[youtube] JLULjR_tmdo: Downloading video info webpage\n",
      "[youtube] JLULjR_tmdo: Looking for automatic captions\n",
      "[download] Downloading video 51 of 100\n",
      "[youtube] SD-58GVj_30: Downloading webpage\n",
      "[youtube] SD-58GVj_30: Downloading video info webpage\n",
      "[youtube] SD-58GVj_30: Looking for automatic captions\n",
      "[download] Downloading video 52 of 100\n",
      "[youtube] cMPTxTSp20I: Downloading webpage\n",
      "[youtube] cMPTxTSp20I: Downloading video info webpage\n",
      "[youtube] cMPTxTSp20I: Looking for automatic captions\n",
      "[youtube] cMPTxTSp20I: Downloading MPD manifest\n",
      "[download] Downloading video 53 of 100\n",
      "[youtube] 7yNnMgbcR9U: Downloading webpage\n",
      "[youtube] 7yNnMgbcR9U: Downloading video info webpage\n",
      "[youtube] 7yNnMgbcR9U: Looking for automatic captions\n",
      "[download] Downloading video 54 of 100\n",
      "[youtube] RbeCmO-YQjw: Downloading webpage\n",
      "[youtube] RbeCmO-YQjw: Downloading video info webpage\n",
      "[youtube] RbeCmO-YQjw: Looking for automatic captions\n",
      "[youtube] RbeCmO-YQjw: Downloading MPD manifest\n",
      "[download] Downloading video 55 of 100\n",
      "[youtube] HGy89_EAEoQ: Downloading webpage\n",
      "[youtube] HGy89_EAEoQ: Downloading video info webpage\n",
      "[youtube] HGy89_EAEoQ: Looking for automatic captions\n"
     ]
    },
    {
     "name": "stderr",
     "output_type": "stream",
     "text": [
      "WARNING: Couldn't find automatic captions for HGy89_EAEoQ\n"
     ]
    },
    {
     "name": "stdout",
     "output_type": "stream",
     "text": [
      "[download] Downloading video 56 of 100\n",
      "[youtube] t426YWUgwNU: Downloading webpage\n",
      "[youtube] t426YWUgwNU: Downloading video info webpage\n",
      "[youtube] t426YWUgwNU: Looking for automatic captions\n"
     ]
    },
    {
     "name": "stderr",
     "output_type": "stream",
     "text": [
      "WARNING: Couldn't find automatic captions for t426YWUgwNU\n"
     ]
    },
    {
     "name": "stdout",
     "output_type": "stream",
     "text": [
      "[download] Downloading video 57 of 100\n",
      "[youtube] Kj_gvpRIo5k: Downloading webpage\n",
      "[youtube] Kj_gvpRIo5k: Downloading video info webpage\n",
      "[youtube] Kj_gvpRIo5k: Looking for automatic captions\n"
     ]
    },
    {
     "name": "stderr",
     "output_type": "stream",
     "text": [
      "WARNING: Couldn't find automatic captions for Kj_gvpRIo5k\n"
     ]
    },
    {
     "name": "stdout",
     "output_type": "stream",
     "text": [
      "[youtube] Kj_gvpRIo5k: Downloading MPD manifest\n",
      "[download] Downloading video 58 of 100\n",
      "[youtube] 3FW2wJgSmFY: Downloading webpage\n",
      "[youtube] 3FW2wJgSmFY: Downloading video info webpage\n",
      "[youtube] 3FW2wJgSmFY: Looking for automatic captions\n"
     ]
    },
    {
     "name": "stderr",
     "output_type": "stream",
     "text": [
      "WARNING: Couldn't find automatic captions for 3FW2wJgSmFY\n"
     ]
    },
    {
     "name": "stdout",
     "output_type": "stream",
     "text": [
      "[youtube] 3FW2wJgSmFY: Downloading MPD manifest\n",
      "[download] Downloading video 59 of 100\n",
      "[youtube] xE3mq6ST_LE: Downloading webpage\n",
      "[youtube] xE3mq6ST_LE: Downloading video info webpage\n",
      "[youtube] xE3mq6ST_LE: Looking for automatic captions\n"
     ]
    },
    {
     "name": "stderr",
     "output_type": "stream",
     "text": [
      "WARNING: Couldn't find automatic captions for xE3mq6ST_LE\n"
     ]
    },
    {
     "name": "stdout",
     "output_type": "stream",
     "text": [
      "[download] Downloading video 60 of 100\n",
      "[youtube] ofyA_gcOjV0: Downloading webpage\n",
      "[youtube] ofyA_gcOjV0: Downloading video info webpage\n",
      "[youtube] ofyA_gcOjV0: Looking for automatic captions\n"
     ]
    },
    {
     "name": "stderr",
     "output_type": "stream",
     "text": [
      "WARNING: Couldn't find automatic captions for ofyA_gcOjV0\n"
     ]
    },
    {
     "name": "stdout",
     "output_type": "stream",
     "text": [
      "[download] Downloading video 61 of 100\n",
      "[youtube] yP0YoXOH7d8: Downloading webpage\n",
      "[youtube] yP0YoXOH7d8: Downloading video info webpage\n",
      "[youtube] yP0YoXOH7d8: Looking for automatic captions\n"
     ]
    },
    {
     "name": "stderr",
     "output_type": "stream",
     "text": [
      "WARNING: Couldn't find automatic captions for yP0YoXOH7d8\n"
     ]
    },
    {
     "name": "stdout",
     "output_type": "stream",
     "text": [
      "[download] Downloading video 62 of 100\n",
      "[youtube] PdQXsLdkJX4: Downloading webpage\n",
      "[youtube] PdQXsLdkJX4: Downloading video info webpage\n",
      "[youtube] PdQXsLdkJX4: Looking for automatic captions\n",
      "[download] Downloading video 63 of 100\n",
      "[youtube] 8yDSqW_CS2o: Downloading webpage\n",
      "[youtube] 8yDSqW_CS2o: Downloading video info webpage\n",
      "[youtube] 8yDSqW_CS2o: Looking for automatic captions\n"
     ]
    },
    {
     "name": "stderr",
     "output_type": "stream",
     "text": [
      "WARNING: Couldn't find automatic captions for 8yDSqW_CS2o\n"
     ]
    },
    {
     "name": "stdout",
     "output_type": "stream",
     "text": [
      "[youtube] 8yDSqW_CS2o: Downloading MPD manifest\n",
      "[download] Downloading video 64 of 100\n",
      "[youtube] NTC1d50w_6M: Downloading webpage\n",
      "[youtube] NTC1d50w_6M: Downloading video info webpage\n",
      "[youtube] NTC1d50w_6M: Looking for automatic captions\n",
      "[youtube] NTC1d50w_6M: Downloading MPD manifest\n",
      "[download] Downloading video 65 of 100\n",
      "[youtube] 9QhrdZ-mRDk: Downloading webpage\n",
      "[youtube] 9QhrdZ-mRDk: Downloading video info webpage\n",
      "[youtube] 9QhrdZ-mRDk: Looking for automatic captions\n"
     ]
    },
    {
     "name": "stderr",
     "output_type": "stream",
     "text": [
      "WARNING: Couldn't find automatic captions for 9QhrdZ-mRDk\n"
     ]
    },
    {
     "name": "stdout",
     "output_type": "stream",
     "text": [
      "[download] Downloading video 66 of 100\n",
      "[youtube] MNp4KYzwSmI: Downloading webpage\n",
      "[youtube] MNp4KYzwSmI: Downloading video info webpage\n",
      "[youtube] MNp4KYzwSmI: Looking for automatic captions\n"
     ]
    },
    {
     "name": "stderr",
     "output_type": "stream",
     "text": [
      "WARNING: Couldn't find automatic captions for MNp4KYzwSmI\n"
     ]
    },
    {
     "name": "stdout",
     "output_type": "stream",
     "text": [
      "[youtube] MNp4KYzwSmI: Downloading MPD manifest\n",
      "[download] Downloading video 67 of 100\n",
      "[youtube] g-kn05gqJAA: Downloading webpage\n",
      "[youtube] g-kn05gqJAA: Downloading video info webpage\n",
      "[youtube] g-kn05gqJAA: Looking for automatic captions\n"
     ]
    },
    {
     "name": "stderr",
     "output_type": "stream",
     "text": [
      "WARNING: Couldn't find automatic captions for g-kn05gqJAA\n"
     ]
    },
    {
     "name": "stdout",
     "output_type": "stream",
     "text": [
      "[download] Downloading video 68 of 100\n",
      "[youtube] y4bvfXPQiEI: Downloading webpage\n",
      "[youtube] y4bvfXPQiEI: Downloading video info webpage\n",
      "[youtube] y4bvfXPQiEI: Looking for automatic captions\n"
     ]
    },
    {
     "name": "stderr",
     "output_type": "stream",
     "text": [
      "WARNING: Couldn't find automatic captions for y4bvfXPQiEI\n"
     ]
    },
    {
     "name": "stdout",
     "output_type": "stream",
     "text": [
      "[youtube] y4bvfXPQiEI: Downloading MPD manifest\n",
      "[download] Downloading video 69 of 100\n",
      "[youtube] wEQg-tguLmw: Downloading webpage\n",
      "[youtube] wEQg-tguLmw: Downloading video info webpage\n",
      "[youtube] wEQg-tguLmw: Looking for automatic captions\n"
     ]
    },
    {
     "name": "stderr",
     "output_type": "stream",
     "text": [
      "WARNING: Couldn't find automatic captions for wEQg-tguLmw\n"
     ]
    },
    {
     "name": "stdout",
     "output_type": "stream",
     "text": [
      "[youtube] wEQg-tguLmw: Downloading MPD manifest\n",
      "[download] Downloading video 70 of 100\n",
      "[youtube] 5S3pky9V0lA: Downloading webpage\n",
      "[youtube] 5S3pky9V0lA: Downloading video info webpage\n",
      "[youtube] 5S3pky9V0lA: Looking for automatic captions\n",
      "[download] Downloading video 71 of 100\n",
      "[youtube] R82UuGiG1cY: Downloading webpage\n",
      "[youtube] R82UuGiG1cY: Downloading video info webpage\n",
      "[youtube] R82UuGiG1cY: Looking for automatic captions\n"
     ]
    },
    {
     "name": "stderr",
     "output_type": "stream",
     "text": [
      "WARNING: Couldn't find automatic captions for R82UuGiG1cY\n"
     ]
    },
    {
     "name": "stdout",
     "output_type": "stream",
     "text": [
      "[download] Downloading video 72 of 100\n",
      "[youtube] 3o6IR1MXKQ8: Downloading webpage\n",
      "[youtube] 3o6IR1MXKQ8: Downloading video info webpage\n",
      "[youtube] 3o6IR1MXKQ8: Looking for automatic captions\n"
     ]
    },
    {
     "name": "stderr",
     "output_type": "stream",
     "text": [
      "WARNING: Couldn't find automatic captions for 3o6IR1MXKQ8\n"
     ]
    },
    {
     "name": "stdout",
     "output_type": "stream",
     "text": [
      "[youtube] 3o6IR1MXKQ8: Downloading MPD manifest\n",
      "[download] Downloading video 73 of 100\n",
      "[youtube] -ccf7LWCNds: Downloading webpage\n",
      "[youtube] -ccf7LWCNds: Downloading video info webpage\n",
      "[youtube] -ccf7LWCNds: Looking for automatic captions\n"
     ]
    },
    {
     "name": "stderr",
     "output_type": "stream",
     "text": [
      "WARNING: Couldn't find automatic captions for -ccf7LWCNds\n"
     ]
    },
    {
     "name": "stdout",
     "output_type": "stream",
     "text": [
      "[download] Downloading video 74 of 100\n",
      "[youtube] mRgyMuInMzI: Downloading webpage\n",
      "[youtube] mRgyMuInMzI: Downloading video info webpage\n",
      "[youtube] mRgyMuInMzI: Looking for automatic captions\n"
     ]
    },
    {
     "name": "stderr",
     "output_type": "stream",
     "text": [
      "WARNING: Couldn't find automatic captions for mRgyMuInMzI\n"
     ]
    },
    {
     "name": "stdout",
     "output_type": "stream",
     "text": [
      "[download] Downloading video 75 of 100\n",
      "[youtube] IxlIzlvt3Eo: Downloading webpage\n",
      "[youtube] IxlIzlvt3Eo: Downloading video info webpage\n",
      "[youtube] IxlIzlvt3Eo: Looking for automatic captions\n"
     ]
    },
    {
     "name": "stderr",
     "output_type": "stream",
     "text": [
      "WARNING: Couldn't find automatic captions for IxlIzlvt3Eo\n"
     ]
    },
    {
     "name": "stdout",
     "output_type": "stream",
     "text": [
      "[youtube] IxlIzlvt3Eo: Downloading MPD manifest\n",
      "[download] Downloading video 76 of 100\n",
      "[youtube] PvWNlvCIw4k: Downloading webpage\n",
      "[youtube] PvWNlvCIw4k: Downloading video info webpage\n",
      "[youtube] PvWNlvCIw4k: Looking for automatic captions\n"
     ]
    },
    {
     "name": "stderr",
     "output_type": "stream",
     "text": [
      "WARNING: Couldn't find automatic captions for PvWNlvCIw4k\n"
     ]
    },
    {
     "name": "stdout",
     "output_type": "stream",
     "text": [
      "[download] Downloading video 77 of 100\n",
      "[youtube] LA0WX1ujnOw: Downloading webpage\n",
      "[youtube] LA0WX1ujnOw: Downloading video info webpage\n",
      "[youtube] LA0WX1ujnOw: Looking for automatic captions\n"
     ]
    },
    {
     "name": "stderr",
     "output_type": "stream",
     "text": [
      "WARNING: Couldn't find automatic captions for LA0WX1ujnOw\n"
     ]
    },
    {
     "name": "stdout",
     "output_type": "stream",
     "text": [
      "[youtube] LA0WX1ujnOw: Downloading MPD manifest\n",
      "[download] Downloading video 78 of 100\n",
      "[youtube] lxZ_YFuQQ50: Downloading webpage\n",
      "[youtube] lxZ_YFuQQ50: Downloading video info webpage\n",
      "[youtube] lxZ_YFuQQ50: Looking for automatic captions\n"
     ]
    },
    {
     "name": "stderr",
     "output_type": "stream",
     "text": [
      "WARNING: Couldn't find automatic captions for lxZ_YFuQQ50\n"
     ]
    },
    {
     "name": "stdout",
     "output_type": "stream",
     "text": [
      "[youtube] lxZ_YFuQQ50: Downloading MPD manifest\n",
      "[download] Downloading video 79 of 100\n",
      "[youtube] Lrv61U4edTg: Downloading webpage\n",
      "[youtube] Lrv61U4edTg: Downloading video info webpage\n",
      "[youtube] Lrv61U4edTg: Looking for automatic captions\n"
     ]
    },
    {
     "name": "stderr",
     "output_type": "stream",
     "text": [
      "WARNING: Couldn't find automatic captions for Lrv61U4edTg\n"
     ]
    },
    {
     "name": "stdout",
     "output_type": "stream",
     "text": [
      "[download] Downloading video 80 of 100\n",
      "[youtube] _4fVVGfuJEc: Downloading webpage\n",
      "[youtube] _4fVVGfuJEc: Downloading video info webpage\n",
      "[youtube] _4fVVGfuJEc: Looking for automatic captions\n"
     ]
    },
    {
     "name": "stderr",
     "output_type": "stream",
     "text": [
      "WARNING: Couldn't find automatic captions for _4fVVGfuJEc\n"
     ]
    },
    {
     "name": "stdout",
     "output_type": "stream",
     "text": [
      "[youtube] _4fVVGfuJEc: Downloading MPD manifest\n",
      "[download] Downloading video 81 of 100\n",
      "[youtube] YyLBH-e_Iwc: Downloading webpage\n",
      "[youtube] YyLBH-e_Iwc: Downloading video info webpage\n",
      "[youtube] YyLBH-e_Iwc: Looking for automatic captions\n"
     ]
    },
    {
     "name": "stderr",
     "output_type": "stream",
     "text": [
      "WARNING: Couldn't find automatic captions for YyLBH-e_Iwc\n"
     ]
    },
    {
     "name": "stdout",
     "output_type": "stream",
     "text": [
      "[download] Downloading video 82 of 100\n",
      "[youtube] Ti_Z1vq1jSY: Downloading webpage\n",
      "[youtube] Ti_Z1vq1jSY: Downloading video info webpage\n",
      "[youtube] Ti_Z1vq1jSY: Looking for automatic captions\n",
      "[download] Downloading video 83 of 100\n",
      "[youtube] mcQ5EP8MJhI: Downloading webpage\n",
      "[youtube] mcQ5EP8MJhI: Downloading video info webpage\n",
      "[youtube] mcQ5EP8MJhI: Looking for automatic captions\n"
     ]
    },
    {
     "name": "stderr",
     "output_type": "stream",
     "text": [
      "WARNING: Couldn't find automatic captions for mcQ5EP8MJhI\n"
     ]
    },
    {
     "name": "stdout",
     "output_type": "stream",
     "text": [
      "[download] Downloading video 84 of 100\n",
      "[youtube] lDyLJlGkrqg: Downloading webpage\n",
      "[youtube] lDyLJlGkrqg: Downloading video info webpage\n",
      "[youtube] lDyLJlGkrqg: Looking for automatic captions\n"
     ]
    },
    {
     "name": "stderr",
     "output_type": "stream",
     "text": [
      "WARNING: Couldn't find automatic captions for lDyLJlGkrqg\n"
     ]
    },
    {
     "name": "stdout",
     "output_type": "stream",
     "text": [
      "[download] Downloading video 85 of 100\n",
      "[youtube] 8NojSCWiZXo: Downloading webpage\n",
      "[youtube] 8NojSCWiZXo: Downloading video info webpage\n",
      "[youtube] 8NojSCWiZXo: Looking for automatic captions\n"
     ]
    },
    {
     "name": "stderr",
     "output_type": "stream",
     "text": [
      "WARNING: Couldn't find automatic captions for 8NojSCWiZXo\n"
     ]
    },
    {
     "name": "stdout",
     "output_type": "stream",
     "text": [
      "[download] Downloading video 86 of 100\n",
      "[youtube] p8KUP3JNI4I: Downloading webpage\n",
      "[youtube] p8KUP3JNI4I: Downloading video info webpage\n",
      "[youtube] p8KUP3JNI4I: Looking for automatic captions\n"
     ]
    },
    {
     "name": "stderr",
     "output_type": "stream",
     "text": [
      "WARNING: Couldn't find automatic captions for p8KUP3JNI4I\n"
     ]
    },
    {
     "name": "stdout",
     "output_type": "stream",
     "text": [
      "[download] Downloading video 87 of 100\n",
      "[youtube] TeXQBMlZC8k: Downloading webpage\n",
      "[youtube] TeXQBMlZC8k: Downloading video info webpage\n",
      "[youtube] TeXQBMlZC8k: Looking for automatic captions\n"
     ]
    },
    {
     "name": "stderr",
     "output_type": "stream",
     "text": [
      "WARNING: Couldn't find automatic captions for TeXQBMlZC8k\n"
     ]
    },
    {
     "name": "stdout",
     "output_type": "stream",
     "text": [
      "[download] Downloading video 88 of 100\n",
      "[youtube] PQhnEgvTFmE: Downloading webpage\n",
      "[youtube] PQhnEgvTFmE: Downloading video info webpage\n",
      "[youtube] PQhnEgvTFmE: Looking for automatic captions\n"
     ]
    },
    {
     "name": "stderr",
     "output_type": "stream",
     "text": [
      "WARNING: Couldn't find automatic captions for PQhnEgvTFmE\n"
     ]
    },
    {
     "name": "stdout",
     "output_type": "stream",
     "text": [
      "[download] Downloading video 89 of 100\n",
      "[youtube] kAgsddZ6b8U: Downloading webpage\n",
      "[youtube] kAgsddZ6b8U: Downloading video info webpage\n",
      "[youtube] kAgsddZ6b8U: Looking for automatic captions\n"
     ]
    },
    {
     "name": "stderr",
     "output_type": "stream",
     "text": [
      "WARNING: Couldn't find automatic captions for kAgsddZ6b8U\n"
     ]
    },
    {
     "name": "stdout",
     "output_type": "stream",
     "text": [
      "[download] Downloading video 90 of 100\n",
      "[youtube] fGqT3lzOSKU: Downloading webpage\n",
      "[youtube] fGqT3lzOSKU: Downloading video info webpage\n",
      "[youtube] fGqT3lzOSKU: Looking for automatic captions\n"
     ]
    },
    {
     "name": "stderr",
     "output_type": "stream",
     "text": [
      "WARNING: Couldn't find automatic captions for fGqT3lzOSKU\n"
     ]
    },
    {
     "name": "stdout",
     "output_type": "stream",
     "text": [
      "[download] Downloading video 91 of 100\n",
      "[youtube] 20Uz-o0glEM: Downloading webpage\n",
      "[youtube] 20Uz-o0glEM: Downloading video info webpage\n",
      "[youtube] 20Uz-o0glEM: Looking for automatic captions\n",
      "[download] Downloading video 92 of 100\n",
      "[youtube] U5JiaQgEI84: Downloading webpage\n",
      "[youtube] U5JiaQgEI84: Downloading video info webpage\n",
      "[youtube] U5JiaQgEI84: Looking for automatic captions\n",
      "[youtube] U5JiaQgEI84: Downloading MPD manifest\n",
      "[download] Downloading video 93 of 100\n",
      "[youtube] 36hTaMiPLQ4: Downloading webpage\n",
      "[youtube] 36hTaMiPLQ4: Downloading video info webpage\n",
      "[youtube] 36hTaMiPLQ4: Looking for automatic captions\n"
     ]
    },
    {
     "name": "stderr",
     "output_type": "stream",
     "text": [
      "WARNING: Couldn't find automatic captions for 36hTaMiPLQ4\n"
     ]
    },
    {
     "name": "stdout",
     "output_type": "stream",
     "text": [
      "[download] Downloading video 94 of 100\n",
      "[youtube] BRogBKf9Bm8: Downloading webpage\n",
      "[youtube] BRogBKf9Bm8: Downloading video info webpage\n",
      "[youtube] BRogBKf9Bm8: Looking for automatic captions\n"
     ]
    },
    {
     "name": "stderr",
     "output_type": "stream",
     "text": [
      "WARNING: Couldn't find automatic captions for BRogBKf9Bm8\n"
     ]
    },
    {
     "name": "stdout",
     "output_type": "stream",
     "text": [
      "[download] Downloading video 95 of 100\n",
      "[youtube] Gq3LiSFx1t4: Downloading webpage\n",
      "[youtube] Gq3LiSFx1t4: Downloading video info webpage\n",
      "[youtube] Gq3LiSFx1t4: Looking for automatic captions\n"
     ]
    },
    {
     "name": "stderr",
     "output_type": "stream",
     "text": [
      "WARNING: Couldn't find automatic captions for Gq3LiSFx1t4\n"
     ]
    },
    {
     "name": "stdout",
     "output_type": "stream",
     "text": [
      "[youtube] Gq3LiSFx1t4: Downloading MPD manifest\n",
      "[download] Downloading video 96 of 100\n",
      "[youtube] 9dem-ZU9OLE: Downloading webpage\n",
      "[youtube] 9dem-ZU9OLE: Downloading video info webpage\n",
      "[youtube] 9dem-ZU9OLE: Looking for automatic captions\n",
      "[youtube] 9dem-ZU9OLE: Downloading MPD manifest\n",
      "[download] Downloading video 97 of 100\n",
      "[youtube] DieAckaG7TY: Downloading webpage\n",
      "[youtube] DieAckaG7TY: Downloading video info webpage\n",
      "[youtube] DieAckaG7TY: Looking for automatic captions\n"
     ]
    },
    {
     "name": "stderr",
     "output_type": "stream",
     "text": [
      "WARNING: Couldn't find automatic captions for DieAckaG7TY\n"
     ]
    },
    {
     "name": "stdout",
     "output_type": "stream",
     "text": [
      "[download] Downloading video 98 of 100\n",
      "[youtube] DsthYpCm0XM: Downloading webpage\n",
      "[youtube] DsthYpCm0XM: Downloading video info webpage\n",
      "[youtube] DsthYpCm0XM: Looking for automatic captions\n"
     ]
    },
    {
     "name": "stderr",
     "output_type": "stream",
     "text": [
      "WARNING: Couldn't find automatic captions for DsthYpCm0XM\n"
     ]
    },
    {
     "name": "stdout",
     "output_type": "stream",
     "text": [
      "[download] Downloading video 99 of 100\n",
      "[youtube] Aq_QxwNf5N8: Downloading webpage\n",
      "[youtube] Aq_QxwNf5N8: Downloading video info webpage\n",
      "[youtube] Aq_QxwNf5N8: Looking for automatic captions\n"
     ]
    },
    {
     "name": "stderr",
     "output_type": "stream",
     "text": [
      "WARNING: Couldn't find automatic captions for Aq_QxwNf5N8\n"
     ]
    },
    {
     "name": "stdout",
     "output_type": "stream",
     "text": [
      "[download] Downloading video 100 of 100\n",
      "[youtube] qNlo5ZuOdpA: Downloading webpage\n",
      "[youtube] qNlo5ZuOdpA: Downloading video info webpage\n",
      "[youtube] qNlo5ZuOdpA: Looking for automatic captions\n",
      "[download] Finished downloading playlist: Zegna Uomo\n"
     ]
    }
   ],
   "source": [
    "ydl_opts = {'dump_single_json': True, 'writeautomaticsub': True, 'subtitleslangs': ['en']}\n",
    "with youtube_dl.YoutubeDL(ydl_opts) as ydl:\n",
    "    result = ydl.extract_info(\"ytsearch100:Zegna Uomo\", download=False)"
   ]
  },
  {
   "cell_type": "markdown",
   "metadata": {},
   "source": [
    "The text within the captions is quite messy, so before we load the data into a dataframe, we need to clean out special URLs, special characters, etc.:"
   ]
  },
  {
   "cell_type": "code",
   "execution_count": 47,
   "metadata": {},
   "outputs": [
    {
     "data": {
      "text/html": [
       "<div>\n",
       "<style scoped>\n",
       "    .dataframe tbody tr th:only-of-type {\n",
       "        vertical-align: middle;\n",
       "    }\n",
       "\n",
       "    .dataframe tbody tr th {\n",
       "        vertical-align: top;\n",
       "    }\n",
       "\n",
       "    .dataframe thead th {\n",
       "        text-align: right;\n",
       "    }\n",
       "</style>\n",
       "<table border=\"1\" class=\"dataframe\">\n",
       "  <thead>\n",
       "    <tr style=\"text-align: right;\">\n",
       "      <th></th>\n",
       "      <th>Title</th>\n",
       "      <th>Description</th>\n",
       "      <th>Tags</th>\n",
       "      <th>Captions</th>\n",
       "    </tr>\n",
       "  </thead>\n",
       "  <tbody>\n",
       "    <tr>\n",
       "      <th>0</th>\n",
       "      <td>Uomo Ermenegildo Zegna for Men (2013)</td>\n",
       "      <td>a fragrance i TRULY love Frarantica Link    Fo...</td>\n",
       "      <td>zegna uomo fragrance review mens all year roun...</td>\n",
       "      <td>hey guys how are y'all doing I've been  mea...</td>\n",
       "    </tr>\n",
       "    <tr>\n",
       "      <th>1</th>\n",
       "      <td>Redolessence Smells &amp; Rates best Zegna fragrance</td>\n",
       "      <td>Facebook   Twitter   IG    Redolessence    Zeg...</td>\n",
       "      <td>best Zegna fragrance best Zegna cologne Zegna ...</td>\n",
       "      <td>what's going on guys so today's video I  go...</td>\n",
       "    </tr>\n",
       "    <tr>\n",
       "      <th>2</th>\n",
       "      <td>Ermenegildo Zegna Uomo (Review) 🔥🔥Cheapie sexi...</td>\n",
       "      <td></td>\n",
       "      <td></td>\n",
       "      <td>hey everybody welcome back     good      ev...</td>\n",
       "    </tr>\n",
       "    <tr>\n",
       "      <th>3</th>\n",
       "      <td>Uomo by Ermenegildo Zegna - A Quicky Review</td>\n",
       "      <td>Fragrantica Profile:    Zegna Website:</td>\n",
       "      <td>uomo Ermenegildo Zegna (Organization) fresh be...</td>\n",
       "      <td>come to another fragrance quickie and  toda...</td>\n",
       "    </tr>\n",
       "    <tr>\n",
       "      <th>4</th>\n",
       "      <td>FIRST IMPRESSION! | UOMO by Ermenegildo Zegna</td>\n",
       "      <td>HELLO EVERYONE!  Today at StudioScents I'm pre...</td>\n",
       "      <td>Fragrancepreview UOMO ErmenegildoZegna Firstim...</td>\n",
       "      <td>hi and welcome back to studio since I'm  To...</td>\n",
       "    </tr>\n",
       "  </tbody>\n",
       "</table>\n",
       "</div>"
      ],
      "text/plain": [
       "                                               Title  \\\n",
       "0              Uomo Ermenegildo Zegna for Men (2013)   \n",
       "1   Redolessence Smells & Rates best Zegna fragrance   \n",
       "2  Ermenegildo Zegna Uomo (Review) 🔥🔥Cheapie sexi...   \n",
       "3        Uomo by Ermenegildo Zegna - A Quicky Review   \n",
       "4      FIRST IMPRESSION! | UOMO by Ermenegildo Zegna   \n",
       "\n",
       "                                         Description  \\\n",
       "0  a fragrance i TRULY love Frarantica Link    Fo...   \n",
       "1  Facebook   Twitter   IG    Redolessence    Zeg...   \n",
       "2                                                      \n",
       "3           Fragrantica Profile:    Zegna Website:     \n",
       "4  HELLO EVERYONE!  Today at StudioScents I'm pre...   \n",
       "\n",
       "                                                Tags  \\\n",
       "0  zegna uomo fragrance review mens all year roun...   \n",
       "1  best Zegna fragrance best Zegna cologne Zegna ...   \n",
       "2                                                      \n",
       "3  uomo Ermenegildo Zegna (Organization) fresh be...   \n",
       "4  Fragrancepreview UOMO ErmenegildoZegna Firstim...   \n",
       "\n",
       "                                            Captions  \n",
       "0     hey guys how are y'all doing I've been  mea...  \n",
       "1     what's going on guys so today's video I  go...  \n",
       "2     hey everybody welcome back     good      ev...  \n",
       "3     come to another fragrance quickie and  toda...  \n",
       "4     hi and welcome back to studio since I'm  To...  "
      ]
     },
     "execution_count": 47,
     "metadata": {},
     "output_type": "execute_result"
    }
   ],
   "source": [
    "tag_re = re.compile(r'<[^>]+>')\n",
    "link_re = re.compile(r'http\\S+|\\d+')\n",
    "def remove_tags(text):\n",
    "    return tag_re.sub(' ', text)\n",
    "\n",
    "def remove_links(text):\n",
    "    return link_re.sub(' ', text)\n",
    "\n",
    "\n",
    "title, description, tags, captions = ([] for i in range(4))\n",
    "\n",
    "for i in result['entries']:\n",
    "    # append each item to a separate list and then add them as a dictionary to dataframe all at once after the loop has run\n",
    "    title.append(i['title'])\n",
    "    description.append(remove_links(i['description']).replace('\\n',' '))\n",
    "    tags.append(remove_links(' '.join(i['tags'])))\n",
    "    if 'en' in i['automatic_captions']:\n",
    "        auto_captions = requests.get(i['automatic_captions']['en'][0]['url'])\n",
    "        auto_captions_clean = remove_tags(auto_captions.text).replace('&amp;#39;', \"'\")         \\\n",
    "                                                             .replace('&lt;font',\" \")           \\\n",
    "                                                             .replace('color=&quot;', \" \")      \\\n",
    "                                                             .replace('&lt;/font&gt;', \" \")     \\\n",
    "                                                             .replace('#CCCCCC&quot;&gt;', \" \") \\\n",
    "                                                             .replace('#E5E5E5&quot;&gt;', \" \")\n",
    "        captions.append(auto_captions_clean)\n",
    "    else:\n",
    "        captions.append(float('nan'))\n",
    "uomo_yt_df = pd.DataFrame({'Title': title, 'Description': description, 'Tags': tags, 'Captions': captions})\n",
    "\n",
    "# uomo_yt_df.to_json('uomo_yt100.json') # save dataframe to JSON\n",
    "\n",
    "uomo_yt_df.head()"
   ]
  },
  {
   "cell_type": "markdown",
   "metadata": {},
   "source": [
    "After cleaning, we have clean text for the Title, Description, Tags, and Captions for each YouTube video related to the Zegna Uomo cologne and we've saved our data in a JSON format so that we can easily reload the data in its current form as a Pandas DataFrame. Now, we're ready for text analysis! Let's move on to Part III."
   ]
  }
 ],
 "metadata": {
  "kernelspec": {
   "display_name": "Python 3",
   "language": "python",
   "name": "python3"
  },
  "language_info": {
   "codemirror_mode": {
    "name": "ipython",
    "version": 3
   },
   "file_extension": ".py",
   "mimetype": "text/x-python",
   "name": "python",
   "nbconvert_exporter": "python",
   "pygments_lexer": "ipython3",
   "version": "3.7.3"
  }
 },
 "nbformat": 4,
 "nbformat_minor": 2
}
