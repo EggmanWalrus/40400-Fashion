{
 "cells": [
  {
   "cell_type": "markdown",
   "metadata": {},
   "source": [
    "# Acquiring Data via Public API: Using Google Books API\n",
    "\n",
    "APIs can be used to programmatically access data in a standardized way. In this exercise, we will access metadata about books via the Google Books API. We can access book metadata by entering the ISBN number of each book after the \"isbn:\" portion of the Google Books API url. We can do this manually in our search bar (or by clicking the link returned below) and see that we receive JSON data in return. We can also do this programmatically and automate this \"request\" of data via the Python \"Requests\" library.\n",
    "\n",
    "Why use requests? Python has many built-in libraries that were developed over the years to retrieve information from the internet (e.g. urllib, urllib2, urllib3). However, these libraries are very low-level and somewhat hard to use. They become especially cumbersome when you need to issue POST requests or authenticate against a web service.\n",
    "\n",
    "Luckily, as with most tasks in Python, someone has developed a library that simplifies these tasks. In reality, the requests we're making today are fairly simple, and could easily be done using one of the built-in libraries. However, it is better to get acquainted to `requests` as soon as possible, since you will probably need it in the future."
   ]
  },
  {
   "cell_type": "code",
   "execution_count": 1,
   "metadata": {
    "pycharm": {
     "is_executing": false
    }
   },
   "outputs": [],
   "source": [
    "import requests"
   ]
  },
  {
   "cell_type": "code",
   "execution_count": 2,
   "metadata": {
    "pycharm": {
     "is_executing": false
    }
   },
   "outputs": [
    {
     "name": "stdout",
     "text": [
      "https://www.googleapis.com/books/v1/volumes?q=isbn:9780486202174\n"
     ],
     "output_type": "stream"
    }
   ],
   "source": [
    "isbn = '9780486202174'\n",
    "base_url = 'https://www.googleapis.com/books/v1/volumes?q=isbn:'\n",
    "print(base_url+isbn)"
   ]
  },
  {
   "cell_type": "markdown",
   "metadata": {},
   "source": [
    "******"
   ]
  },
  {
   "cell_type": "code",
   "execution_count": 3,
   "metadata": {
    "pycharm": {
     "is_executing": false
    }
   },
   "outputs": [
    {
     "data": {
      "text/plain": "'Philosophical Writings of Peirce'"
     },
     "metadata": {},
     "output_type": "execute_result",
     "execution_count": 3
    }
   ],
   "source": [
    "r = requests.get(url = base_url+isbn)\n",
    "data = r.json()\n",
    "data['items'][0]['volumeInfo']['title']"
   ]
  },
  {
   "cell_type": "code",
   "execution_count": 5,
   "metadata": {},
   "outputs": [
    {
     "data": {
      "text/plain": [
       "{'kind': 'books#volumes',\n",
       " 'totalItems': 1,\n",
       " 'items': [{'kind': 'books#volume',\n",
       "   'id': 'Uq1kDQAAQBAJ',\n",
       "   'etag': 'WSNjT3t+Jv4',\n",
       "   'selfLink': 'https://www.googleapis.com/books/v1/volumes/Uq1kDQAAQBAJ',\n",
       "   'volumeInfo': {'title': 'Philosophical Writings of Peirce',\n",
       "    'authors': ['Charles S. Peirce'],\n",
       "    'publisher': 'Courier Corporation',\n",
       "    'publishedDate': '1955-01-01',\n",
       "    'description': '\"An excellent, discerning introduction. It should prove a real boon to the student of Peirce.\" — The Modern Schoolman Charles S. Peirce was a thinker of great originality and power. Although unpublished in his lifetime, he was recognized as an equal by such men as William James and John Dewey and, since his death in 1914, has come to the forefront of American philosophy. This volume, prepared by the Johnsonian Professor of Philosophy at Columbia University, formerly chairman of Columbia\\'s philosophy department, is a carefully balanced exposition of Peirce\\'s complete philosophical system as set forth in his own writings. The 28 chapters, in which appropriate sections of Peirce\\'s work are interwoven into a brilliant selection that reveals his essential ideas, cover epistemology, phenomenology, cosmology, and scientific method, with especially interesting material on logic as the theory of signs, pure chance vs, pure law in the universe, symbolic logic, common sense, pragmatism (of which he was the founder), and ethics. Justus Buchler is author of Charles Peirce\\'s Empiricism (1939), Philosophy: An Introduction (with J. H. Randall, Jr., 1942), and more recently, a series of books which form an ongoing philosophic structure: Toward a General Theory of Human Judgement (1951), Nature and Judgment (1855), and The Concept of Method (1961). It has been said of these volumes, \"A fresh and vital system of ideas has been introduced into the world of contemporary philosophy.\" (Journal of Philosophy). \"It is a very signal advantage to have this collection of Peirce\\'s most important work within the covers of a single substantial volume. We should all be very grateful to Mr. Buchler.\" — John Laird, Philosophy',\n",
       "    'industryIdentifiers': [{'type': 'ISBN_13', 'identifier': '9780486202174'},\n",
       "     {'type': 'ISBN_10', 'identifier': '0486202178'}],\n",
       "    'readingModes': {'text': False, 'image': True},\n",
       "    'pageCount': 386,\n",
       "    'printType': 'BOOK',\n",
       "    'categories': ['Philosophy'],\n",
       "    'maturityRating': 'NOT_MATURE',\n",
       "    'allowAnonLogging': True,\n",
       "    'contentVersion': '0.3.1.0.preview.1',\n",
       "    'panelizationSummary': {'containsEpubBubbles': False,\n",
       "     'containsImageBubbles': False},\n",
       "    'imageLinks': {'smallThumbnail': 'http://books.google.com/books/content?id=Uq1kDQAAQBAJ&printsec=frontcover&img=1&zoom=5&edge=curl&source=gbs_api',\n",
       "     'thumbnail': 'http://books.google.com/books/content?id=Uq1kDQAAQBAJ&printsec=frontcover&img=1&zoom=1&edge=curl&source=gbs_api'},\n",
       "    'language': 'en',\n",
       "    'previewLink': 'http://books.google.com/books?id=Uq1kDQAAQBAJ&printsec=frontcover&dq=isbn:9780486202174&hl=&cd=1&source=gbs_api',\n",
       "    'infoLink': 'http://books.google.com/books?id=Uq1kDQAAQBAJ&dq=isbn:9780486202174&hl=&source=gbs_api',\n",
       "    'canonicalVolumeLink': 'https://books.google.com/books/about/Philosophical_Writings_of_Peirce.html?hl=&id=Uq1kDQAAQBAJ'},\n",
       "   'saleInfo': {'country': 'US',\n",
       "    'saleability': 'NOT_FOR_SALE',\n",
       "    'isEbook': False},\n",
       "   'accessInfo': {'country': 'US',\n",
       "    'viewability': 'PARTIAL',\n",
       "    'embeddable': True,\n",
       "    'publicDomain': False,\n",
       "    'textToSpeechPermission': 'ALLOWED',\n",
       "    'epub': {'isAvailable': False},\n",
       "    'pdf': {'isAvailable': False},\n",
       "    'webReaderLink': 'http://play.google.com/books/reader?id=Uq1kDQAAQBAJ&hl=&printsec=frontcover&source=gbs_api',\n",
       "    'accessViewStatus': 'SAMPLE',\n",
       "    'quoteSharingAllowed': False},\n",
       "   'searchInfo': {'textSnippet': 'This volume, prepared by the Johnsonian Professor of Philosophy at Columbia University, formerly chairman of Columbia&#39;s philosophy department, is a carefully balanced exposition of Peirce&#39;s complete philosophical system as set forth in his ...'}}]}"
      ]
     },
     "execution_count": 5,
     "metadata": {},
     "output_type": "execute_result"
    }
   ],
   "source": [
    "api_url = 'https://www.googleapis.com/books/v1/volumes'\n",
    "parameters = {'q': 'isbn:9780486202174'}\n",
    "r = requests.get(url=api_url, params=parameters)\n",
    "data = r.json()\n",
    "data"
   ]
  },
  {
   "cell_type": "markdown",
   "metadata": {},
   "source": [
    "Many APIs will require that you obtain authorization credentials (usually free and painless) in order to use them. If that is the case, you can pass additional parameter to `request.get()` called `auth` that will allow you to enter a username and password and any additional information that is needed.\n",
    "\n",
    "See the Requests Library Documentation for more detail: https://requests.kennethreitz.org//en/master/user/authentication/. Note that many established APIs will have their own wrappers around Python's requests library through which you can access their APIs (potentially) more seemlessly. In this case you may use other packages than requests to perform the same API call function.\n",
    "\n",
    "If we wanted to bring specific information about a number of books into a DataFrame so that we could analyze the books, we could perform API calls for each book and append that data to a Python dictionary. Pandas allows us to then directly create a DataFrame from dictionary input. When you're making multiple calls with the requests library, it is good practice to use the \"sleep\" function to space out your requests a bit (API documentation will often let you know how many requests per time unit you are allowed to make). Otherwise, you may overwhelm some servers and, in some cases, be blocked form using an API (or in the case of webscraping, have your IP address blocked).\n",
    "\n",
    "For more practice getting data via API (as well as some initial practice with web scraping, which we will cover more fully next week), check out DataCamp's [Importing Data in Python Intermediate](https://www.datacamp.com/courses/importing-data-in-python-part-2) course. In the course, you will practice working with the requests library, as well as apply your skills to access data via the Twitter API."
   ]
  }
 ],
 "metadata": {
  "kernelspec": {
   "display_name": "Python 3",
   "language": "python",
   "name": "python3"
  },
  "language_info": {
   "codemirror_mode": {
    "name": "ipython",
    "version": 3
   },
   "file_extension": ".py",
   "mimetype": "text/x-python",
   "name": "python",
   "nbconvert_exporter": "python",
   "pygments_lexer": "ipython3",
   "version": "3.7.3"
  }
 },
 "nbformat": 4,
 "nbformat_minor": 2
}